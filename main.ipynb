{
 "cells": [
  {
   "cell_type": "code",
   "execution_count": 1,
   "metadata": {},
   "outputs": [
    {
     "name": "stdout",
     "output_type": "stream",
     "text": [
      "Entered number:  254\n",
      "Binary:  11111110\n",
      "Hex:  FE\n"
     ]
    }
   ],
   "source": [
    "def main():\n",
    "    n = int(input(\"Please enter a number between 0~225\"))\n",
    "    print(\"Entered number: \", n)\n",
    "\n",
    "    #convert decimal to binary\n",
    "    n_bin = n\n",
    "    bin_list = []\n",
    "    while n_bin >= 1:\n",
    "        bin_list.append(str(n_bin % 2))\n",
    "        n_bin //= 2\n",
    "    bin_list.reverse()\n",
    "        \n",
    "    \n",
    "    #convert decimal to hex\n",
    "    n_hex = n\n",
    "    digits = \"0123456789ABCDEF\"\n",
    "    hex_list = []\n",
    "    while n_hex >= 1:\n",
    "        hex_list.append(str(digits[n_hex%16]))\n",
    "        n_hex //= 16\n",
    "    hex_list.reverse()\n",
    "    \n",
    "    print(\"Binary: \", ''.join(bin_list))\n",
    "    print(\"Hex: \", ''.join(hex_list))\n",
    "    \n",
    "if __name__ == \"__main__\":\n",
    "    main()"
   ]
  },
  {
   "cell_type": "code",
   "execution_count": null,
   "metadata": {},
   "outputs": [],
   "source": []
  }
 ],
 "metadata": {
  "kernelspec": {
   "display_name": "Python 3",
   "language": "python",
   "name": "python3"
  },
  "language_info": {
   "codemirror_mode": {
    "name": "ipython",
    "version": 3
   },
   "file_extension": ".py",
   "mimetype": "text/x-python",
   "name": "python",
   "nbconvert_exporter": "python",
   "pygments_lexer": "ipython3",
   "version": "3.11.2"
  },
  "orig_nbformat": 4,
  "vscode": {
   "interpreter": {
    "hash": "aee8b7b246df8f9039afb4144a1f6fd8d2ca17a180786b69acc140d282b71a49"
   }
  }
 },
 "nbformat": 4,
 "nbformat_minor": 2
}
